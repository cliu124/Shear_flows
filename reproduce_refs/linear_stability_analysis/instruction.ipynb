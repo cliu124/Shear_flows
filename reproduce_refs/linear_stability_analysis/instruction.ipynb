{
 "cells": [
  {
   "cell_type": "markdown",
   "metadata": {},
   "source": [
    "# Building linear system and matrix\n",
    "First, we have the governing equations as follows:\n",
    "\\begin{equation}\n",
    "\\nabla\\cdot \\vec{u}_{tot} = \\nabla\\cdot (\\bar{u}\\vec{e}_x + \\vec{u}) = \\nabla\\cdot \\vec{u} = 0,\n",
    "\\end{equation}\n",
    "\n",
    "\\begin{equation}\n",
    "\\partial_t \\vec{u}+\\bar{u}\\partial_x\\vec{u} + w\\partial_z\\bar{u}\\vec{e}_x + \\vec{u}\\cdot\\nabla\\vec{u} = -\\nabla p + \\frac{Pr}{Pe}\\nabla^2\\vec{u} + \\frac{4\\pi^2 Ri}{R_\\rho-1}(T-S)\\vec{e}_z,\n",
    "\\end{equation}\n",
    "\n",
    "\\begin{equation}\n",
    "\\partial_t T +\\bar{u}\\partial_x T + \\vec{u}\\cdot\\nabla T - w_{tot} = \\frac{1}{Pe}\\nabla^2 T,\n",
    "\\end{equation}\n",
    "\n",
    "\\begin{equation}\n",
    "\\partial_t S +\\bar{u}\\partial_x S + \\vec{u}\\cdot\\nabla S - R_\\rho w_{tot} = \\frac{\\tau}{Pe}\\nabla^2 S.\n",
    "\\end{equation}"
   ]
  },
  {
   "cell_type": "markdown",
   "metadata": {},
   "source": [
    "In these equations, there is presence of nonlinear terms as $\\vec{u}\\cdot\\nabla\\vec{u}$, $\\vec{u}\\cdot\\nabla T$, and $\\vec{u}\\cdot\\nabla S$. To exam the linear stability analysis, these nonlinear terms would be removed from the system. Now, the system is replace by\n",
    "\\begin{equation}\n",
    "\\nabla\\cdot \\vec{u} = 0,\n",
    "\\end{equation}\n",
    "\n",
    "\\begin{equation}\n",
    "\\partial_t \\vec{u}+\\bar{u}\\partial_x\\vec{u} + w\\partial_z\\bar{u}\\vec{e}_x = -\\nabla p + \\frac{Pr}{Pe}\\nabla^2\\vec{u} + \\frac{4\\pi^2 Ri}{R_\\rho-1}(T-S)\\vec{e}_z,\n",
    "\\end{equation}\n",
    "\n",
    "\\begin{equation}\n",
    "\\partial_t T +\\bar{u}\\partial_x T - w_{tot} = \\frac{1}{Pe}\\nabla^2 T,\n",
    "\\end{equation}\n",
    "\n",
    "\\begin{equation}\n",
    "\\partial_t S +\\bar{u}\\partial_x S - R_\\rho w_{tot} = \\frac{\\tau}{Pe}\\nabla^2 S.\n",
    "\\end{equation}"
   ]
  }
 ],
 "metadata": {
  "language_info": {
   "name": "python"
  }
 },
 "nbformat": 4,
 "nbformat_minor": 2
}
