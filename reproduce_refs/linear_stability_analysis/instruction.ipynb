{
 "cells": [
  {
   "cell_type": "markdown",
   "metadata": {},
   "source": [
    "# Building linear system and matrix\n",
    "First, we have the governing equations as follows:\n",
    "\\begin{equation}\n",
    "\\nabla\\cdot \\vec{u}_{tot} = \\nabla\\cdot (\\bar{u}\\vec{e}_x + \\vec{u}) = \\nabla\\cdot \\vec{u} = 0,\n",
    "\\end{equation}\n",
    "\n",
    "\\begin{equation}\n",
    "\\partial_t \\vec{u}+\\bar{u}\\partial_x\\vec{u} + w\\partial_z\\bar{u}\\vec{e}_x + \\vec{u}\\cdot\\nabla\\vec{u} = -\\nabla p + \\frac{Pr}{Pe}\\nabla^2\\vec{u} + \\frac{4\\pi^2 Ri}{R_\\rho-1}(T-S)\\vec{e}_z,\n",
    "\\end{equation}\n",
    "\n",
    "\\begin{equation}\n",
    "\\partial_t T +\\bar{u}\\partial_x T + \\vec{u}\\cdot\\nabla T - w = \\frac{1}{Pe}\\nabla^2 T,\n",
    "\\end{equation}\n",
    "\n",
    "\\begin{equation}\n",
    "\\partial_t S +\\bar{u}\\partial_x S + \\vec{u}\\cdot\\nabla S - R_\\rho w = \\frac{\\tau}{Pe}\\nabla^2 S.\n",
    "\\end{equation}"
   ]
  },
  {
   "cell_type": "markdown",
   "metadata": {},
   "source": [
    "In these equations, there is presence of nonlinear terms as $\\vec{u}\\cdot\\nabla\\vec{u}$, $\\vec{u}\\cdot\\nabla T$, and $\\vec{u}\\cdot\\nabla S$. To exam the linear stability analysis, these nonlinear terms would be removed from the system. Now, the system is replace by\n",
    "\\begin{equation}\n",
    "\\nabla\\cdot \\vec{u} = 0,\n",
    "\\end{equation}\n",
    "\n",
    "\\begin{equation}\n",
    "\\partial_t \\vec{u}+\\bar{u}\\partial_x\\vec{u} + w\\partial_z\\bar{u}\\vec{e}_x = -\\nabla p + \\frac{Pr}{Pe}\\nabla^2\\vec{u} + \\frac{4\\pi^2 Ri}{R_\\rho-1}(T-S)\\vec{e}_z,\n",
    "\\end{equation}\n",
    "\n",
    "\\begin{equation}\n",
    "\\partial_t T +\\bar{u}\\partial_x T - w = \\frac{1}{Pe}\\nabla^2 T,\n",
    "\\end{equation}\n",
    "\n",
    "\\begin{equation}\n",
    "\\partial_t S +\\bar{u}\\partial_x S - R_\\rho w = \\frac{\\tau}{Pe}\\nabla^2 S.\n",
    "\\end{equation}"
   ]
  },
  {
   "cell_type": "markdown",
   "metadata": {},
   "source": [
    "\\begin{align}\n",
    "\\nabla\\cdot \\vec{u} &= 0,\\\\\n",
    "\\frac{\\partial u}{\\partial t}+sin(2\\pi z)\\frac{\\partial u}{\\partial x} + 2\\pi cos(2\\pi z)w &= -\\frac{\\partial p}{\\partial x} + \\frac{Pr}{Pe}\\nabla^2 u,\\\\\n",
    "\\frac{\\partial v}{\\partial t}+sin(2\\pi z)\\frac{\\partial v}{\\partial x} &= -\\frac{\\partial p}{\\partial y} + \\frac{Pr}{Pe}\\nabla^2 v,\\\\\n",
    "\\frac{\\partial w}{\\partial t}+sin(2\\pi z)\\frac{\\partial w}{\\partial x} &= -\\frac{\\partial p}{\\partial z} + \\frac{Pr}{Pe}\\nabla^2 w + \\frac{4\\pi^2 Ri}{R_\\rho-1}(T-S),\\\\\n",
    "\\frac{\\partial T}{\\partial t} +sin(2\\pi z)\\frac{\\partial T}{\\partial x} - w &= \\frac{1}{Pe}\\nabla^2 T,\\\\\n",
    "\\frac{\\partial S}{\\partial t} +sin(2\\pi z)\\frac{\\partial S}{\\partial x} - R_\\rho w &= \\frac{\\tau}{Pe}\\nabla^2 S.\n",
    "\\end{align}"
   ]
  },
  {
   "cell_type": "markdown",
   "metadata": {},
   "source": [
    "\\begin{align}\n",
    "\\frac{\\partial u}{\\partial t} &= -sin(2\\pi z)\\frac{\\partial u}{\\partial x} - 2\\pi cos(2\\pi z)w  -\\frac{\\partial p}{\\partial x} + \\frac{Pr}{Pe}\\nabla^2 u,\\\\\n",
    "\\frac{\\partial v}{\\partial t} &= -sin(2\\pi z)\\frac{\\partial v}{\\partial x} -\\frac{\\partial p}{\\partial y} + \\frac{Pr}{Pe}\\nabla^2 v,\\\\\n",
    "\\frac{\\partial w}{\\partial t} &= -sin(2\\pi z)\\frac{\\partial w}{\\partial x}-\\frac{\\partial p}{\\partial z} + \\frac{Pr}{Pe}\\nabla^2 w + \\frac{4\\pi^2 Ri}{R_\\rho-1}(T-S),\\\\\n",
    "\\nabla\\cdot \\vec{u} &= 0,\\\\\n",
    "\\frac{\\partial T}{\\partial t} &= -sin(2\\pi z)\\frac{\\partial T}{\\partial x} + w + \\frac{1}{Pe}\\nabla^2 T,\\\\\n",
    "\\frac{\\partial S}{\\partial t} &= -sin(2\\pi z)\\frac{\\partial S}{\\partial x} + R_\\rho w+\\frac{\\tau}{Pe}\\nabla^2 S.\n",
    "\\end{align}"
   ]
  },
  {
   "cell_type": "markdown",
   "metadata": {},
   "source": [
    "Linear terms:\n",
    "\\begin{align}\n",
    "\\bar{u} &= sin(2\\pi z),\\\\\n",
    "\\partial_z \\bar{u} &= 2\\pi cos(2\\pi z),\\\\\n",
    "\\partial_x &= ik_x,\\\\\n",
    "\\partial_y &= ik_y,\\\\\n",
    "\\partial_z &= D1,\\\\\n",
    "\\nabla &= \\left[\\begin{array}{ccc}ik_x & ik_y & \\partial_z\\end{array}\\right],\\\\\n",
    "\\nabla^2 &= \\left[\\begin{array}{ccc}-k_x^2 & -k_y^2 & \\partial_z^2\\end{array}\\right],\\\\\n",
    "\\end{align}"
   ]
  },
  {
   "cell_type": "markdown",
   "metadata": {},
   "source": [
    "\\begin{align}\n",
    "\\left[ \\begin{array}{cccccc}\n",
    "1 &   &   &   &   & \\\\\n",
    "  & 1 &   &   &   & \\\\\n",
    "  &   & 1 &   &   & \\\\\n",
    "  &   &   & 0 &   & \\\\\n",
    "  &   &   &   & 1 & \\\\\n",
    "  &   &   &   &   & 1\\end{array} \\right] \\partial t\n",
    "\\left[ \\begin{array}{c}\n",
    "u \\\\\n",
    "v \\\\\n",
    "w \\\\\n",
    "p \\\\\n",
    "T \\\\\n",
    "S \\end{array} \\right] &=\n",
    "\\left[ \\begin{array}{c|c|c|c|c|c}\n",
    "M &   & - 2\\pi cos(2\\pi z) & -\\partial x &   & \\\\\n",
    "  & M &   & -\\partial y &   & \\\\\n",
    "  &   & M & -\\partial z & \\frac{4\\pi^2 Ri}{R_\\rho-1} & -\\frac{4\\pi^2 Ri}{R_\\rho-1}\\\\\n",
    "\\partial x & \\partial y & \\partial z &  &   & \\\\\n",
    "  &   & 1 &   & N & \\\\\n",
    "  &   & R_\\rho &   &   & K\\end{array} \\right]\n",
    "\\left[ \\begin{array}{c}\n",
    "u \\\\\n",
    "v \\\\\n",
    "w \\\\\n",
    "p \\\\\n",
    "T \\\\\n",
    "S \\end{array} \\right]\\\\\n",
    "&=\\left[ \\begin{array}{c|c|c|c|c|c}\n",
    "M &  & DU & -ik_x &  & \\\\\n",
    " & M &  & -ik_y  &  & \\\\\n",
    " &  & M & -D1 & G & -G\\\\\n",
    "ik_x  & ik_y  & D1 &  &  & \\\\\n",
    " &  & 1 &  & N & \\\\\n",
    " &  & R_\\rho &  &  & K\\end{array} \\right]\n",
    "\\left[ \\begin{array}{c}\n",
    "u \\\\\n",
    "v \\\\\n",
    "w \\\\\n",
    "p \\\\\n",
    "T \\\\\n",
    "S \\end{array} \\right]\n",
    "\\end{align}\n",
    "\n",
    "where\n",
    "\\begin{align}\n",
    "M &= -sin(2\\pi z)\\partial x+\\frac{Pr}{Pe}\\nabla^2 = -sin(2\\pi z)ik_x I+\\frac{Pr}{Pe}(-k_x^2 I-k_y^2 I+D2),\\\\\n",
    "N &= -sin(2\\pi z)\\partial x+\\frac{1}{Pe}\\nabla^2 = -sin(2\\pi z)ik_x I+\\frac{1}{Pe}(-k_x^2 I-k_y^2 I+D2),\\\\\n",
    "K &= -sin(2\\pi z)\\partial x+\\frac{\\tau}{Pe}\\nabla^2 = -sin(2\\pi z)ik_x I+\\frac{\\tau}{Pe}(-k_x^2 I-k_y^2 I+D2),\\\\\n",
    "DU &= - 2\\pi cos(2\\pi z),\\\\\n",
    "G &= \\frac{4\\pi^2 Ri}{R_\\rho-1}.\n",
    "\\end{align}"
   ]
  }
 ],
 "metadata": {
  "language_info": {
   "name": "python"
  }
 },
 "nbformat": 4,
 "nbformat_minor": 2
}
